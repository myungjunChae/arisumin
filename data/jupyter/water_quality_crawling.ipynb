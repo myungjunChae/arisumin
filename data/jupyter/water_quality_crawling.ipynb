{
  "nbformat": 4,
  "nbformat_minor": 0,
  "metadata": {
    "colab": {
      "name": "water_quality_crawling.ipynb",
      "provenance": [],
      "collapsed_sections": []
    },
    "kernelspec": {
      "name": "python3",
      "display_name": "Python 3"
    }
  },
  "cells": [
    {
      "cell_type": "markdown",
      "metadata": {
        "id": "JV5JhWiE2Cpd",
        "colab_type": "text"
      },
      "source": [
        "# Setting Env (Selenium, Chrome)"
      ]
    },
    {
      "cell_type": "code",
      "metadata": {
        "id": "OBT5mzoM1l70",
        "colab_type": "code",
        "outputId": "a5041c00-4bc3-45f4-d406-900c10c309f2",
        "colab": {
          "base_uri": "https://localhost:8080/",
          "height": 1000
        }
      },
      "source": [
        "!pip install selenium\n",
        "!apt-get update # to update ubuntu to correctly run apt install\n",
        "!apt install chromium-chromedriver\n",
        "!cp /usr/lib/chromium-browser/chromedriver /usr/bin"
      ],
      "execution_count": 0,
      "outputs": [
        {
          "output_type": "stream",
          "text": [
            "Collecting selenium\n",
            "\u001b[?25l  Downloading https://files.pythonhosted.org/packages/80/d6/4294f0b4bce4de0abf13e17190289f9d0613b0a44e5dd6a7f5ca98459853/selenium-3.141.0-py2.py3-none-any.whl (904kB)\n",
            "\u001b[K     |████████████████████████████████| 911kB 4.8MB/s \n",
            "\u001b[?25hRequirement already satisfied: urllib3 in /usr/local/lib/python3.6/dist-packages (from selenium) (1.24.3)\n",
            "Installing collected packages: selenium\n",
            "Successfully installed selenium-3.141.0\n",
            "Ign:1 https://developer.download.nvidia.com/compute/cuda/repos/ubuntu1804/x86_64  InRelease\n",
            "Ign:2 https://developer.download.nvidia.com/compute/machine-learning/repos/ubuntu1804/x86_64  InRelease\n",
            "Get:3 https://developer.download.nvidia.com/compute/cuda/repos/ubuntu1804/x86_64  Release [564 B]\n",
            "Get:4 http://security.ubuntu.com/ubuntu bionic-security InRelease [88.7 kB]\n",
            "Get:5 https://developer.download.nvidia.com/compute/machine-learning/repos/ubuntu1804/x86_64  Release [564 B]\n",
            "Get:6 https://developer.download.nvidia.com/compute/cuda/repos/ubuntu1804/x86_64  Release.gpg [819 B]\n",
            "Get:7 https://developer.download.nvidia.com/compute/machine-learning/repos/ubuntu1804/x86_64  Release.gpg [833 B]\n",
            "Get:8 http://ppa.launchpad.net/graphics-drivers/ppa/ubuntu bionic InRelease [21.3 kB]\n",
            "Get:9 https://cloud.r-project.org/bin/linux/ubuntu bionic-cran35/ InRelease [3,626 B]\n",
            "Hit:10 http://archive.ubuntu.com/ubuntu bionic InRelease\n",
            "Get:11 https://developer.download.nvidia.com/compute/cuda/repos/ubuntu1804/x86_64  Packages [113 kB]\n",
            "Get:12 https://developer.download.nvidia.com/compute/machine-learning/repos/ubuntu1804/x86_64  Packages [19.8 kB]\n",
            "Get:13 http://ppa.launchpad.net/marutter/c2d4u3.5/ubuntu bionic InRelease [15.4 kB]\n",
            "Get:14 http://archive.ubuntu.com/ubuntu bionic-updates InRelease [88.7 kB]\n",
            "Get:15 https://cloud.r-project.org/bin/linux/ubuntu bionic-cran35/ Packages [70.5 kB]\n",
            "Get:16 http://security.ubuntu.com/ubuntu bionic-security/universe amd64 Packages [769 kB]\n",
            "Get:17 http://archive.ubuntu.com/ubuntu bionic-backports InRelease [74.6 kB]\n",
            "Get:18 http://ppa.launchpad.net/graphics-drivers/ppa/ubuntu bionic/main amd64 Packages [31.7 kB]\n",
            "Get:19 http://security.ubuntu.com/ubuntu bionic-security/restricted amd64 Packages [9,585 B]\n",
            "Get:20 http://security.ubuntu.com/ubuntu bionic-security/multiverse amd64 Packages [5,230 B]\n",
            "Get:21 http://security.ubuntu.com/ubuntu bionic-security/main amd64 Packages [663 kB]\n",
            "Get:22 http://archive.ubuntu.com/ubuntu bionic-updates/main amd64 Packages [960 kB]\n",
            "Get:23 http://ppa.launchpad.net/marutter/c2d4u3.5/ubuntu bionic/main Sources [1,706 kB]\n",
            "Get:24 http://archive.ubuntu.com/ubuntu bionic-updates/multiverse amd64 Packages [8,284 B]\n",
            "Get:25 http://ppa.launchpad.net/marutter/c2d4u3.5/ubuntu bionic/main amd64 Packages [821 kB]\n",
            "Get:26 http://archive.ubuntu.com/ubuntu bionic-updates/restricted amd64 Packages [20.3 kB]\n",
            "Get:27 http://archive.ubuntu.com/ubuntu bionic-updates/universe amd64 Packages [1,288 kB]\n",
            "Get:28 http://archive.ubuntu.com/ubuntu bionic-backports/universe amd64 Packages [4,227 B]\n",
            "Fetched 6,785 kB in 5s (1,331 kB/s)\n",
            "Reading package lists... Done\n",
            "Reading package lists... Done\n",
            "Building dependency tree       \n",
            "Reading state information... Done\n",
            "The following additional packages will be installed:\n",
            "  chromium-browser chromium-browser-l10n chromium-codecs-ffmpeg-extra\n",
            "Suggested packages:\n",
            "  webaccounts-chromium-extension unity-chromium-extension adobe-flashplugin\n",
            "The following NEW packages will be installed:\n",
            "  chromium-browser chromium-browser-l10n chromium-chromedriver\n",
            "  chromium-codecs-ffmpeg-extra\n",
            "0 upgraded, 4 newly installed, 0 to remove and 124 not upgraded.\n",
            "Need to get 65.8 MB of archives.\n",
            "After this operation, 234 MB of additional disk space will be used.\n",
            "Get:1 http://archive.ubuntu.com/ubuntu bionic-updates/universe amd64 chromium-codecs-ffmpeg-extra amd64 76.0.3809.100-0ubuntu0.18.04.1 [1,066 kB]\n",
            "Get:2 http://archive.ubuntu.com/ubuntu bionic-updates/universe amd64 chromium-browser amd64 76.0.3809.100-0ubuntu0.18.04.1 [57.5 MB]\n",
            "Get:3 http://archive.ubuntu.com/ubuntu bionic-updates/universe amd64 chromium-browser-l10n all 76.0.3809.100-0ubuntu0.18.04.1 [2,985 kB]\n",
            "Get:4 http://archive.ubuntu.com/ubuntu bionic-updates/universe amd64 chromium-chromedriver amd64 76.0.3809.100-0ubuntu0.18.04.1 [4,239 kB]\n",
            "Fetched 65.8 MB in 8s (8,411 kB/s)\n",
            "Selecting previously unselected package chromium-codecs-ffmpeg-extra.\n",
            "(Reading database ... 131183 files and directories currently installed.)\n",
            "Preparing to unpack .../chromium-codecs-ffmpeg-extra_76.0.3809.100-0ubuntu0.18.04.1_amd64.deb ...\n",
            "Unpacking chromium-codecs-ffmpeg-extra (76.0.3809.100-0ubuntu0.18.04.1) ...\n",
            "Selecting previously unselected package chromium-browser.\n",
            "Preparing to unpack .../chromium-browser_76.0.3809.100-0ubuntu0.18.04.1_amd64.deb ...\n",
            "Unpacking chromium-browser (76.0.3809.100-0ubuntu0.18.04.1) ...\n",
            "Selecting previously unselected package chromium-browser-l10n.\n",
            "Preparing to unpack .../chromium-browser-l10n_76.0.3809.100-0ubuntu0.18.04.1_all.deb ...\n",
            "Unpacking chromium-browser-l10n (76.0.3809.100-0ubuntu0.18.04.1) ...\n",
            "Selecting previously unselected package chromium-chromedriver.\n",
            "Preparing to unpack .../chromium-chromedriver_76.0.3809.100-0ubuntu0.18.04.1_amd64.deb ...\n",
            "Unpacking chromium-chromedriver (76.0.3809.100-0ubuntu0.18.04.1) ...\n",
            "Processing triggers for mime-support (3.60ubuntu1) ...\n",
            "Setting up chromium-codecs-ffmpeg-extra (76.0.3809.100-0ubuntu0.18.04.1) ...\n",
            "Processing triggers for man-db (2.8.3-2ubuntu0.1) ...\n",
            "Processing triggers for hicolor-icon-theme (0.17-2) ...\n",
            "Setting up chromium-browser (76.0.3809.100-0ubuntu0.18.04.1) ...\n",
            "update-alternatives: using /usr/bin/chromium-browser to provide /usr/bin/x-www-browser (x-www-browser) in auto mode\n",
            "update-alternatives: using /usr/bin/chromium-browser to provide /usr/bin/gnome-www-browser (gnome-www-browser) in auto mode\n",
            "Setting up chromium-chromedriver (76.0.3809.100-0ubuntu0.18.04.1) ...\n",
            "Setting up chromium-browser-l10n (76.0.3809.100-0ubuntu0.18.04.1) ...\n",
            "cp: '/usr/lib/chromium-browser/chromedriver' and '/usr/bin/chromedriver' are the same file\n"
          ],
          "name": "stdout"
        }
      ]
    },
    {
      "cell_type": "markdown",
      "metadata": {
        "id": "T_xf8Wxl3aQg",
        "colab_type": "text"
      },
      "source": [
        "# Google Drive Mount\n"
      ]
    },
    {
      "cell_type": "code",
      "metadata": {
        "id": "lOQalcj63YUc",
        "colab_type": "code",
        "outputId": "676c5477-ac94-4761-c202-d7562953f283",
        "colab": {
          "base_uri": "https://localhost:8080/",
          "height": 122
        }
      },
      "source": [
        "from google.colab import auth\n",
        "auth.authenticate_user()\n",
        "from google.colab import drive\n",
        "drive.mount('/content/gdrive')"
      ],
      "execution_count": 0,
      "outputs": [
        {
          "output_type": "stream",
          "text": [
            "Go to this URL in a browser: https://accounts.google.com/o/oauth2/auth?client_id=947318989803-6bn6qk8qdgf4n4g3pfee6491hc0brc4i.apps.googleusercontent.com&redirect_uri=urn%3Aietf%3Awg%3Aoauth%3A2.0%3Aoob&scope=email%20https%3A%2F%2Fwww.googleapis.com%2Fauth%2Fdocs.test%20https%3A%2F%2Fwww.googleapis.com%2Fauth%2Fdrive%20https%3A%2F%2Fwww.googleapis.com%2Fauth%2Fdrive.photos.readonly%20https%3A%2F%2Fwww.googleapis.com%2Fauth%2Fpeopleapi.readonly&response_type=code\n",
            "\n",
            "Enter your authorization code:\n",
            "··········\n",
            "Mounted at /content/gdrive\n"
          ],
          "name": "stdout"
        }
      ]
    },
    {
      "cell_type": "markdown",
      "metadata": {
        "id": "Jm7TA9723lmh",
        "colab_type": "text"
      },
      "source": [
        "# Chrome Setting"
      ]
    },
    {
      "cell_type": "code",
      "metadata": {
        "id": "1TlotWv816wX",
        "colab_type": "code",
        "colab": {}
      },
      "source": [
        "import sys\n",
        "sys.path.insert(0,'/usr/lib/chromium-browser/chromedriver')\n",
        "\n",
        "from selenium import webdriver\n",
        "from selenium.webdriver.common.by import By\n",
        "from selenium.webdriver.support.ui import WebDriverWait\n",
        "from selenium.webdriver.support import expected_conditions as EC  \n",
        "from selenium.common.exceptions import TimeoutException\n",
        "\n",
        "options = webdriver.ChromeOptions()\n",
        "options.add_argument('--headless')\n",
        "options.add_argument('--no-sandbox')\n",
        "options.add_argument('--disable-dev-shm-usage')\n",
        "\n",
        "import pandas as pd\n",
        "import traceback\n",
        "\n",
        "import time\n",
        "\n",
        "import pdb\n",
        "import re\n",
        "import numpy as np"
      ],
      "execution_count": 0,
      "outputs": []
    },
    {
      "cell_type": "code",
      "metadata": {
        "id": "orqWiSOmC7hX",
        "colab_type": "code",
        "colab": {}
      },
      "source": [
        "def search_with_exception(selector, time = 1):\n",
        "  try:\n",
        "    ele = WebDriverWait(driver, time).until(EC.presence_of_element_located((By.CSS_SELECTOR, selector)))\n",
        "    print(ele.text)\n",
        "    return ele\n",
        "  except TimeoutException:\n",
        "    traceback.print_exc()\n",
        "    \n",
        "def execute_script(script, time = 5):\n",
        "  driver.set_script_timeout(time)\n",
        "  driver.execute_script(script)\n",
        "  #print(\"execute script : {script}\".format(script=script))\n",
        "  \n",
        "def get_button_script(source, location):\n",
        "  query1 = 'javascript.*{}'.format(location)\n",
        "  query2 = ':.*?\\)'\n",
        " \n",
        "  source = re.findall(query1,source)[0]\n",
        "  script = re.findall(query2,source)[0][1:].strip()\n",
        "  #print(script)\n",
        "  return script\n",
        "\n",
        "def recursive(location):\n",
        "  #print(location)\n",
        "  for curr in location:\n",
        "    html = driver.page_source.split('\\n')\n",
        "   \n",
        "    for line in html:\n",
        "      line = line.strip()\n",
        "      \n",
        "      if re.search('{}'.format(curr),line):\n",
        "        execute_script(get_button_script(line, curr))\n",
        "        time.sleep(1)"
      ],
      "execution_count": 0,
      "outputs": []
    },
    {
      "cell_type": "markdown",
      "metadata": {
        "id": "XFLF-lQGu7tP",
        "colab_type": "text"
      },
      "source": [
        "# 시군구 얻어오기"
      ]
    },
    {
      "cell_type": "code",
      "metadata": {
        "id": "2FUuJK6L2dvq",
        "colab_type": "code",
        "colab": {}
      },
      "source": [
        "url = \"https://www.water.or.kr\"\n",
        "path = '/content/gdrive/My Drive/'\n",
        "name = 'water_quality.csv'\n",
        "\n",
        "driver = webdriver.Chrome('chromedriver',options=options)\n",
        "driver.get(url)  \n",
        "\n",
        "data = {}\n",
        "df = pd.DataFrame({'location1':[], 'location2':[], 'location3':[]})\n",
        "i = 0\n",
        "\n",
        "main_handle = driver.current_window_handle\n",
        "\n",
        "execute_script(\"fnOpenCenterWindow1('/kwip/common/popupLocation.do','430','330','','')\",5)\n",
        "\n",
        "for handle in driver.window_handles:\n",
        "  if handle != main_handle:\n",
        "    sub_handle = handle\n",
        "\n",
        "#handle 전환 \n",
        "driver.implicitly_wait(2)\n",
        "driver.switch_to.window(sub_handle)\n",
        "time.sleep(1)\n",
        "\n",
        "#wait server side\n",
        "시도 = driver.find_elements_by_css_selector('#sido_nm > li')\n",
        "\n",
        "for index, ele in enumerate(시도):\n",
        "  if index != 0:\n",
        "    ele.click()\n",
        "    time.sleep(1)\n",
        "    \n",
        "    군구 = driver.find_elements_by_css_selector('#sigun_nm > li')\n",
        "   \n",
        "    for index, ele in enumerate(군구):\n",
        "      if index != 0:\n",
        "        ele.click()\n",
        "        time.sleep(1)\n",
        "      \n",
        "        #읍면동 = driver.find_elements_by_css_selector('#eupmyeondong > li')\n",
        "        읍면동 = driver.find_element_by_css_selector('#eupmyeondong')\n",
        "        읍면동 = 읍면동.text.split('\\n')\n",
        "        \n",
        "        for index, ele in enumerate(읍면동):\n",
        "          if index != 0:\n",
        "            current = driver.find_elements_by_css_selector('.on')\n",
        "\n",
        "            df.loc[i, 'location1'] = current[0].text\n",
        "            df.loc[i, 'location2'] = current[1].text\n",
        "            df.loc[i, 'location3'] = ele\n",
        "            i += 1\n",
        "\n",
        "            print(\"{}/{}/{}/{}\".format(i, current[0].text, current[1].text, ele))\n"
      ],
      "execution_count": 0,
      "outputs": []
    },
    {
      "cell_type": "markdown",
      "metadata": {
        "id": "MIHma2gfz30g",
        "colab_type": "text"
      },
      "source": [
        "# 수질 정보 얻어오기"
      ]
    },
    {
      "cell_type": "code",
      "metadata": {
        "id": "sqATcRQ9rnH0",
        "colab_type": "code",
        "colab": {}
      },
      "source": [
        "url = \"https://www.water.or.kr\"\n",
        "path = '/content/gdrive/My Drive/'\n",
        "name = 'water_quality.csv'\n",
        "\n",
        "driver = webdriver.Chrome('chromedriver',options=options)\n",
        "driver.get(url)  \n",
        "\n",
        "df = pd.read_csv(path + name)\n",
        "df = df[df.location2 != \"강남구\"]\n",
        "df = df[df.location2 != \"강동구\"]\n",
        "df['blur'] = np.nan\n",
        "df['chlorine'] = np.nan\n",
        "df['ph'] = np.nan\n",
        "\n",
        "\n",
        "\n",
        "for index, row in df.iterrows():\n",
        "  \n",
        "  시도 = row['location1']\n",
        "  시군 = row['location2']\n",
        "  읍면동 = row['location3']\n",
        "  print('{} {} {}'.format(시도,시군, 읍면동))\n",
        "    \n",
        "  #크롬 새로고침\n",
        "  print('1')\n",
        "  driver.refresh()\n",
        "  driver.implicitly_wait(5)\n",
        "  \n",
        "  #handle 전환 \n",
        "  main_handle = driver.current_window_handle\n",
        "  execute_script(\"fnOpenCenterWindow1('/kwip/common/popupLocation.do','430','330','','')\",10)\n",
        "\n",
        "  for handle in driver.window_handles:\n",
        "    if handle != main_handle:\n",
        "      sub_handle = handle\n",
        "\n",
        "  driver.implicitly_wait(2)\n",
        "  driver.switch_to.window(sub_handle)\n",
        "  time.sleep(1)\n",
        "\n",
        "\n",
        "  #지역별 접근\n",
        "  print('2')\n",
        "  \n",
        "  recursive([시도, 시군, 읍면동])\n",
        "  execute_script(\"fn_popup_submit()\")\n",
        "  driver.switch_to.window(main_handle)\n",
        "  time.sleep(1)\n",
        "  \n",
        "  #데이터 크롤링\n",
        "  print('3')\n",
        "  \n",
        "  data = ['#blur', '#chlorine', '#ph']\n",
        "  print(4)\n",
        "  pdb.set_trace()\n",
        "  driver.refresh()\n",
        "  driver.implicitly_wait(5)\n",
        "  print(5)\n",
        "  ele = driver.find_element_by_css_selector('.turbidity')\n",
        "  print(6)\n",
        "  \n",
        "  df.loc[index, 'blur'] = ele.find_element_by_css_selector(data[0]).text\n",
        "  df.loc[index, 'chlorine'] = ele.find_element_by_css_selector(data[1]).text\n",
        "  df.loc[index, 'ph'] = ele.find_element_by_css_selector(data[2]).text\n",
        "    \n",
        "  print('탁도 : {}, 잔류염소 : {}, ph : {}'.format(df.loc[index, 'blur'], df.loc[index, 'chlorine'], df.loc[index, 'ph']))\n",
        "  print('')\n",
        "    \n",
        "  \n"
      ],
      "execution_count": 0,
      "outputs": []
    },
    {
      "cell_type": "code",
      "metadata": {
        "id": "62sQcMwi2QRv",
        "colab_type": "code",
        "colab": {}
      },
      "source": [
        "df.to_csv(path+name)"
      ],
      "execution_count": 0,
      "outputs": []
    }
  ]
}